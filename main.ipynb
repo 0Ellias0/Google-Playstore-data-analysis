{
 "cells": [
  {
   "cell_type": "markdown",
   "metadata": {},
   "source": [
    "# **Import Libraries**"
   ]
  },
  {
   "cell_type": "code",
   "execution_count": 140,
   "metadata": {},
   "outputs": [],
   "source": [
    "import pyspark \n",
    "from pyspark.sql import SparkSession\n",
    "from pyspark.sql.types import StructType, StructField, StringType, IntegerType\n",
    "from pyspark.sql.functions import *\n",
    "import os"
   ]
  },
  {
   "cell_type": "markdown",
   "metadata": {},
   "source": [
    "# **Create Dataframe**"
   ]
  },
  {
   "cell_type": "code",
   "execution_count": 141,
   "metadata": {},
   "outputs": [],
   "source": [
    "# You need to have Java installed to run Spark.\n",
    "os.environ[\"JAVA_HOME\"] = \"C:\\\\Program Files\\\\Java\\\\jdk-22\"\n",
    "\n",
    "\n",
    "spark = SparkSession.builder.appName(\"Google Play Store Data\").getOrCreate()"
   ]
  },
  {
   "cell_type": "code",
   "execution_count": 142,
   "metadata": {},
   "outputs": [],
   "source": [
    "df = spark.read.csv(\"googleplaystore.csv\", header=True, inferSchema=True)"
   ]
  },
  {
   "cell_type": "code",
   "execution_count": 143,
   "metadata": {},
   "outputs": [
    {
     "data": {
      "text/plain": [
       "10841"
      ]
     },
     "execution_count": 143,
     "metadata": {},
     "output_type": "execute_result"
    }
   ],
   "source": [
    "# coiunt number of rows\n",
    "df.count()"
   ]
  },
  {
   "cell_type": "code",
   "execution_count": 144,
   "metadata": {},
   "outputs": [
    {
     "name": "stdout",
     "output_type": "stream",
     "text": [
      "+--------------------+--------------+------+-------+----+----------+----+-----+--------------+--------------------+----------------+-----------+------------+\n",
      "|                 App|      Category|Rating|Reviews|Size|  Installs|Type|Price|Content Rating|              Genres|    Last Updated|Current Ver| Android Ver|\n",
      "+--------------------+--------------+------+-------+----+----------+----+-----+--------------+--------------------+----------------+-----------+------------+\n",
      "|Photo Editor & Ca...|ART_AND_DESIGN|   4.1|    159| 19M|   10,000+|Free|    0|      Everyone|        Art & Design| January 7, 2018|      1.0.0|4.0.3 and up|\n",
      "| Coloring book moana|ART_AND_DESIGN|   3.9|    967| 14M|  500,000+|Free|    0|      Everyone|Art & Design;Pret...|January 15, 2018|      2.0.0|4.0.3 and up|\n",
      "|U Launcher Lite –...|ART_AND_DESIGN|   4.7|  87510|8.7M|5,000,000+|Free|    0|      Everyone|        Art & Design|  August 1, 2018|      1.2.4|4.0.3 and up|\n",
      "+--------------------+--------------+------+-------+----+----------+----+-----+--------------+--------------------+----------------+-----------+------------+\n",
      "only showing top 3 rows\n",
      "\n"
     ]
    }
   ],
   "source": [
    "# show first 3 rows\n",
    "df.show(3)"
   ]
  },
  {
   "cell_type": "code",
   "execution_count": 145,
   "metadata": {},
   "outputs": [
    {
     "name": "stdout",
     "output_type": "stream",
     "text": [
      "root\n",
      " |-- App: string (nullable = true)\n",
      " |-- Category: string (nullable = true)\n",
      " |-- Rating: string (nullable = true)\n",
      " |-- Reviews: string (nullable = true)\n",
      " |-- Size: string (nullable = true)\n",
      " |-- Installs: string (nullable = true)\n",
      " |-- Type: string (nullable = true)\n",
      " |-- Price: string (nullable = true)\n",
      " |-- Content Rating: string (nullable = true)\n",
      " |-- Genres: string (nullable = true)\n",
      " |-- Last Updated: string (nullable = true)\n",
      " |-- Current Ver: string (nullable = true)\n",
      " |-- Android Ver: string (nullable = true)\n",
      "\n"
     ]
    }
   ],
   "source": [
    "# Check schema\n",
    "df.printSchema()"
   ]
  },
  {
   "cell_type": "markdown",
   "metadata": {},
   "source": [
    "# **Data Cleaning step**"
   ]
  },
  {
   "cell_type": "code",
   "execution_count": 146,
   "metadata": {},
   "outputs": [
    {
     "name": "stdout",
     "output_type": "stream",
     "text": [
      "+--------------------+--------------+------+-------+--------+----+-----+--------------------+\n",
      "|                 App|      Category|Rating|Reviews|Installs|Type|Price|              Genres|\n",
      "+--------------------+--------------+------+-------+--------+----+-----+--------------------+\n",
      "|Photo Editor & Ca...|ART_AND_DESIGN|   4.1|    159| 10,000+|Free|    0|        Art & Design|\n",
      "| Coloring book moana|ART_AND_DESIGN|   3.9|    967|500,000+|Free|    0|Art & Design;Pret...|\n",
      "+--------------------+--------------+------+-------+--------+----+-----+--------------------+\n",
      "only showing top 2 rows\n",
      "\n"
     ]
    }
   ],
   "source": [
    "#dropping not important columns \n",
    "\n",
    "df = df.drop(\"size\",\"Content Rating\",\"Last Updated\",\"Android Ver\",\"Current Ver\")\n",
    "df.show(2)"
   ]
  },
  {
   "cell_type": "code",
   "execution_count": 147,
   "metadata": {},
   "outputs": [
    {
     "name": "stdout",
     "output_type": "stream",
     "text": [
      "root\n",
      " |-- App: string (nullable = true)\n",
      " |-- Category: string (nullable = true)\n",
      " |-- Rating: string (nullable = true)\n",
      " |-- Reviews: string (nullable = true)\n",
      " |-- Installs: string (nullable = true)\n",
      " |-- Type: string (nullable = true)\n",
      " |-- Price: string (nullable = true)\n",
      " |-- Genres: string (nullable = true)\n",
      "\n"
     ]
    }
   ],
   "source": [
    "df.printSchema()"
   ]
  },
  {
   "cell_type": "code",
   "execution_count": 148,
   "metadata": {},
   "outputs": [
    {
     "name": "stdout",
     "output_type": "stream",
     "text": [
      "+-------+\n",
      "|  price|\n",
      "+-------+\n",
      "|  $1.29|\n",
      "| $19.99|\n",
      "|  $0.99|\n",
      "|  $4.59|\n",
      "|$400.00|\n",
      "| $89.99|\n",
      "| $24.99|\n",
      "|  $1.96|\n",
      "| $39.99|\n",
      "| $12.99|\n",
      "|  $8.99|\n",
      "| $11.99|\n",
      "| $14.99|\n",
      "| $25.99|\n",
      "|  $3.04|\n",
      "| $15.46|\n",
      "|  $2.50|\n",
      "|      0|\n",
      "|   5.0M|\n",
      "|  $2.49|\n",
      "+-------+\n",
      "only showing top 20 rows\n",
      "\n"
     ]
    }
   ],
   "source": [
    "unique_values_type = df.select('price').distinct()\n",
    "unique_values_type.show()"
   ]
  },
  {
   "cell_type": "code",
   "execution_count": 149,
   "metadata": {},
   "outputs": [],
   "source": [
    "# Transform the DataFrame\n",
    "df = df.withColumn(\"Rating\", col(\"Rating\").cast(\"float\")) \\\n",
    "       .withColumn(\"Reviews\", col(\"Reviews\").cast(\"int\")) \\\n",
    "       .withColumn(\"installs\", regexp_replace(\"installs\", \"[^0-9]\", \"\")) \\\n",
    "       .withColumn(\"installs\", col(\"installs\").cast(\"int\")) \\\n",
    "       .withColumn(\"price\", regexp_replace(\"price\", r\"\\$\", \"\")) \\\n",
    "       .withColumn(\"price\", col(\"price\").cast(\"float\"))"
   ]
  },
  {
   "cell_type": "code",
   "execution_count": 150,
   "metadata": {},
   "outputs": [
    {
     "name": "stdout",
     "output_type": "stream",
     "text": [
      "+--------------------+--------------+------+-------+--------+----+-----+--------------------+\n",
      "|                 App|      Category|Rating|Reviews|installs|Type|price|              Genres|\n",
      "+--------------------+--------------+------+-------+--------+----+-----+--------------------+\n",
      "|Photo Editor & Ca...|ART_AND_DESIGN|   4.1|    159|   10000|Free|  0.0|        Art & Design|\n",
      "| Coloring book moana|ART_AND_DESIGN|   3.9|    967|  500000|Free|  0.0|Art & Design;Pret...|\n",
      "|U Launcher Lite –...|ART_AND_DESIGN|   4.7|  87510| 5000000|Free|  0.0|        Art & Design|\n",
      "+--------------------+--------------+------+-------+--------+----+-----+--------------------+\n",
      "only showing top 3 rows\n",
      "\n"
     ]
    }
   ],
   "source": [
    "df.show(3)"
   ]
  },
  {
   "cell_type": "code",
   "execution_count": 151,
   "metadata": {},
   "outputs": [
    {
     "data": {
      "text/plain": [
       "1474"
      ]
     },
     "execution_count": 151,
     "metadata": {},
     "output_type": "execute_result"
    }
   ],
   "source": [
    "# Check if there are any null values in the Rating column\n",
    "nan_df = df.filter(isnan(col(\"Rating\")))\n",
    "nan_df.count()"
   ]
  },
  {
   "cell_type": "code",
   "execution_count": 152,
   "metadata": {},
   "outputs": [],
   "source": [
    "# Drop rows with null values in the Rating column\n",
    "df = df.na.drop(subset=[\"Rating\"])"
   ]
  },
  {
   "cell_type": "code",
   "execution_count": 153,
   "metadata": {},
   "outputs": [],
   "source": [
    "# remove a row that has a invalid rating of 19 \n",
    "df = df.filter(df.Rating != 19.0)"
   ]
  },
  {
   "cell_type": "code",
   "execution_count": 154,
   "metadata": {},
   "outputs": [],
   "source": [
    "df.createOrReplaceTempView(\"apps\")"
   ]
  },
  {
   "cell_type": "code",
   "execution_count": 155,
   "metadata": {},
   "outputs": [
    {
     "name": "stdout",
     "output_type": "stream",
     "text": [
      "+--------------------+--------------+------+-------+--------+----+-----+--------------------+\n",
      "|                 App|      Category|Rating|Reviews|installs|Type|price|              Genres|\n",
      "+--------------------+--------------+------+-------+--------+----+-----+--------------------+\n",
      "|Photo Editor & Ca...|ART_AND_DESIGN|   4.1|    159|   10000|Free|  0.0|        Art & Design|\n",
      "| Coloring book moana|ART_AND_DESIGN|   3.9|    967|  500000|Free|  0.0|Art & Design;Pret...|\n",
      "|U Launcher Lite –...|ART_AND_DESIGN|   4.7|  87510| 5000000|Free|  0.0|        Art & Design|\n",
      "|Sketch - Draw & P...|ART_AND_DESIGN|   4.5| 215644|50000000|Free|  0.0|        Art & Design|\n",
      "|Pixel Draw - Numb...|ART_AND_DESIGN|   4.3|    967|  100000|Free|  0.0|Art & Design;Crea...|\n",
      "|Paper flowers ins...|ART_AND_DESIGN|   4.4|    167|   50000|Free|  0.0|        Art & Design|\n",
      "|Smoke Effect Phot...|ART_AND_DESIGN|   3.8|    178|   50000|Free|  0.0|        Art & Design|\n",
      "|    Infinite Painter|ART_AND_DESIGN|   4.1|  36815| 1000000|Free|  0.0|        Art & Design|\n",
      "|Garden Coloring Book|ART_AND_DESIGN|   4.4|  13791| 1000000|Free|  0.0|        Art & Design|\n",
      "|Kids Paint Free -...|ART_AND_DESIGN|   4.7|    121|   10000|Free|  0.0|Art & Design;Crea...|\n",
      "+--------------------+--------------+------+-------+--------+----+-----+--------------------+\n",
      "\n"
     ]
    }
   ],
   "source": [
    "results_sql = spark.sql(\"select * from apps limit 10\")\n",
    "results_sql.show()"
   ]
  },
  {
   "cell_type": "markdown",
   "metadata": {},
   "source": [
    "# Top reviews give to the apps"
   ]
  },
  {
   "cell_type": "code",
   "execution_count": 156,
   "metadata": {},
   "outputs": [
    {
     "name": "stdout",
     "output_type": "stream",
     "text": [
      "+--------------------+------------+\n",
      "|                 App|TotalReviews|\n",
      "+--------------------+------------+\n",
      "|           Instagram|   266241989|\n",
      "|  WhatsApp Messenger|   207348304|\n",
      "|      Clash of Clans|   179558781|\n",
      "|Messenger – Text ...|   169932272|\n",
      "|      Subway Surfers|   166331958|\n",
      "|    Candy Crush Saga|   156993136|\n",
      "|            Facebook|   156286514|\n",
      "|         8 Ball Pool|    99386198|\n",
      "|        Clash Royale|    92530298|\n",
      "|            Snapchat|    68045010|\n",
      "+--------------------+------------+\n",
      "\n"
     ]
    }
   ],
   "source": [
    "results_sql = spark.sql(\"\"\"select App, SUM(Reviews) as TotalReviews\n",
    "                         from apps\n",
    "                         group by App\n",
    "                         order by TotalReviews DESC limit 10\n",
    "                        \"\"\")\n",
    "results_sql.show()"
   ]
  },
  {
   "cell_type": "markdown",
   "metadata": {},
   "source": [
    "# TOP 10 INSTALLS APP "
   ]
  },
  {
   "cell_type": "code",
   "execution_count": 157,
   "metadata": {},
   "outputs": [
    {
     "name": "stdout",
     "output_type": "stream",
     "text": [
      "+--------------------+-------------+\n",
      "|                 App|TotalInstalls|\n",
      "+--------------------+-------------+\n",
      "|      Subway Surfers|   6000000000|\n",
      "|           Instagram|   4000000000|\n",
      "|            Hangouts|   4000000000|\n",
      "|        Google Drive|   4000000000|\n",
      "|         Google News|   4000000000|\n",
      "|       Google Photos|   4000000000|\n",
      "|    Candy Crush Saga|   3500000000|\n",
      "|Messenger – Text ...|   3000000000|\n",
      "|  WhatsApp Messenger|   3000000000|\n",
      "|Google Chrome: Fa...|   3000000000|\n",
      "+--------------------+-------------+\n",
      "\n"
     ]
    }
   ],
   "source": [
    "results_sql = spark.sql(\"\"\"select App, SUM(Installs) as TotalInstalls\n",
    "                         from apps\n",
    "                         group by App\n",
    "                         order by TotalInstalls DESC limit 10\n",
    "                        \"\"\")\n",
    "results_sql.show()"
   ]
  },
  {
   "cell_type": "markdown",
   "metadata": {},
   "source": [
    "# Category wise distribution"
   ]
  },
  {
   "cell_type": "code",
   "execution_count": 158,
   "metadata": {},
   "outputs": [
    {
     "name": "stdout",
     "output_type": "stream",
     "text": [
      "+------------------+-------------+\n",
      "|          Category|TotalInstalls|\n",
      "+------------------+-------------+\n",
      "|              GAME|  35085862717|\n",
      "|     COMMUNICATION|  32647241530|\n",
      "|      PRODUCTIVITY|  14176070180|\n",
      "|            SOCIAL|  14069841475|\n",
      "|             TOOLS|  11450724500|\n",
      "|            FAMILY|  10257701590|\n",
      "|       PHOTOGRAPHY|  10088243130|\n",
      "|NEWS_AND_MAGAZINES|   7496210650|\n",
      "|  TRAVEL_AND_LOCAL|   6868859300|\n",
      "|     VIDEO_PLAYERS|   6221897200|\n",
      "+------------------+-------------+\n",
      "\n"
     ]
    }
   ],
   "source": [
    "results_sql = spark.sql(\"\"\"select Category, SUM(Installs) as TotalInstalls\n",
    "                         from apps\n",
    "                         group by Category\n",
    "                         order by TotalInstalls DESC limit 10\n",
    "                        \"\"\")\n",
    "results_sql.show()"
   ]
  },
  {
   "cell_type": "markdown",
   "metadata": {},
   "source": [
    "# Top Paid Apps"
   ]
  },
  {
   "cell_type": "code",
   "execution_count": 159,
   "metadata": {},
   "outputs": [
    {
     "name": "stdout",
     "output_type": "stream",
     "text": [
      "+--------------------+-------------+\n",
      "|                 App|TotalInstalls|\n",
      "+--------------------+-------------+\n",
      "|           Minecraft|     20000000|\n",
      "|       Hitman Sniper|     10000000|\n",
      "| Facetune - For Free|      3000000|\n",
      "|Beautiful Widgets...|      2000000|\n",
      "|          HD Widgets|      2000000|\n",
      "|              Tasker|      1000000|\n",
      "| Fruit Ninja Classic|      1000000|\n",
      "|          True Skate|      1000000|\n",
      "|   Where's My Water?|      1000000|\n",
      "| DraStic DS Emulator|      1000000|\n",
      "+--------------------+-------------+\n",
      "\n"
     ]
    }
   ],
   "source": [
    "results_sql = spark.sql(\"\"\"select App, SUM(Installs) as TotalInstalls\n",
    "                         from apps\n",
    "                         where Type = 'Paid' \n",
    "                         group by App\n",
    "                         order by TotalInstalls DESC \n",
    "                         limit 10\n",
    "                        \"\"\")\n",
    "results_sql.show()"
   ]
  },
  {
   "cell_type": "markdown",
   "metadata": {},
   "source": [
    "# Top rating app"
   ]
  },
  {
   "cell_type": "code",
   "execution_count": 166,
   "metadata": {},
   "outputs": [
    {
     "name": "stdout",
     "output_type": "stream",
     "text": [
      "+--------------------+-------------+-------------+\n",
      "|                 App|AverageRating|TotalInstalls|\n",
      "+--------------------+-------------+-------------+\n",
      "|Ek Bander Ne Khol...|          5.0|        10000|\n",
      "|          Oración CX|          5.0|         5000|\n",
      "|CL Keyboard - Mya...|          5.0|         5000|\n",
      "|Superheroes, Marv...|          5.0|         5000|\n",
      "|BP Journal - Bloo...|          5.0|         2000|\n",
      "|     Fr. Daoud Lamei|          5.0|         1000|\n",
      "| Florida Wildflowers|          5.0|         1000|\n",
      "|Accounting Quiz (...|          5.0|         1000|\n",
      "|Tozer Devotional ...|          5.0|         1000|\n",
      "|           AP® Guide|          5.0|         1000|\n",
      "+--------------------+-------------+-------------+\n",
      "\n"
     ]
    }
   ],
   "source": [
    "# SQL query to find the top 10 apps with the highest average rating and total installs\n",
    "\n",
    "results_sql = spark.sql(\"\"\"select App, AVG(rating) as AverageRating,SUM(Installs) as TotalInstalls \n",
    "                        from apps\n",
    "                        group by App\n",
    "                        order by AverageRating DESC, TotalInstalls DESC\n",
    "                        limit 10\n",
    "                        \"\"\")\n",
    "results_sql.show()"
   ]
  }
 ],
 "metadata": {
  "kernelspec": {
   "display_name": ".venv",
   "language": "python",
   "name": "python3"
  },
  "language_info": {
   "codemirror_mode": {
    "name": "ipython",
    "version": 3
   },
   "file_extension": ".py",
   "mimetype": "text/x-python",
   "name": "python",
   "nbconvert_exporter": "python",
   "pygments_lexer": "ipython3",
   "version": "3.12.3"
  }
 },
 "nbformat": 4,
 "nbformat_minor": 2
}
